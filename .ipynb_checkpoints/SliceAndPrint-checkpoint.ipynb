{
 "cells": [
  {
   "cell_type": "code",
   "execution_count": 1,
   "metadata": {},
   "outputs": [],
   "source": [
    "import cv2\n",
    "import numpy as np\n",
    "import pandas as pd\n",
    "import statistics \n",
    "import torch\n",
    "import os\n",
    "import time\n",
    "import matplotlib.pyplot as plt\n",
    "import math\n",
    "import torch.nn.functional as F\n",
    "import torchvision.transforms as tf\n",
    "import torchvision.models as models\n",
    "from torch.utils.data import Dataset, DataLoader\n",
    "from torchvision.utils import make_grid\n",
    "from PIL import Image\n",
    "from collections import OrderedDict\n",
    "import seaborn as sns\n",
    "\n",
    "torch.cuda.empty_cache()\n"
   ]
  },
  {
   "cell_type": "code",
   "execution_count": 2,
   "metadata": {},
   "outputs": [],
   "source": [
    "modelA = torch.load('modelA_bw.pth',map_location=torch.device('cuda:0'))\n",
    "modelB = torch.load('modelB_bw.pth',map_location=torch.device('cuda:0'))"
   ]
  },
  {
   "cell_type": "code",
   "execution_count": 3,
   "metadata": {},
   "outputs": [
    {
     "name": "stdout",
     "output_type": "stream",
     "text": [
      "AlexNet(\n",
      "  (features): Sequential(\n",
      "    (0): Conv2d(1, 64, kernel_size=(11, 11), stride=(4, 4), padding=(2, 2))\n",
      "    (1): ReLU(inplace=True)\n",
      "    (2): MaxPool2d(kernel_size=3, stride=2, padding=0, dilation=1, ceil_mode=False)\n",
      "    (3): Conv2d(64, 192, kernel_size=(5, 5), stride=(1, 1), padding=(2, 2))\n",
      "    (4): ReLU(inplace=True)\n",
      "    (5): MaxPool2d(kernel_size=3, stride=2, padding=0, dilation=1, ceil_mode=False)\n",
      "    (6): Conv2d(192, 384, kernel_size=(3, 3), stride=(1, 1), padding=(1, 1))\n",
      "    (7): ReLU(inplace=True)\n",
      "    (8): Conv2d(384, 256, kernel_size=(3, 3), stride=(1, 1), padding=(1, 1))\n",
      "    (9): ReLU(inplace=True)\n",
      "    (10): Conv2d(256, 256, kernel_size=(3, 3), stride=(1, 1), padding=(1, 1))\n",
      "    (11): ReLU(inplace=True)\n",
      "    (12): MaxPool2d(kernel_size=3, stride=2, padding=0, dilation=1, ceil_mode=False)\n",
      "  )\n",
      "  (avgpool): AdaptiveAvgPool2d(output_size=(6, 6))\n",
      "  (classifier): Sequential(\n",
      "    (0): Linear(in_features=9216, out_features=1024, bias=True)\n",
      "    (1): ReLU()\n",
      "    (2): Dropout(p=0.5, inplace=False)\n",
      "    (3): Linear(in_features=1024, out_features=3, bias=True)\n",
      "    (4): LogSoftmax(dim=1)\n",
      "  )\n",
      ")\n",
      "VGG(\n",
      "  (features): Sequential(\n",
      "    (0): Conv2d(1, 64, kernel_size=(3, 3), stride=(1, 1), padding=(1, 1))\n",
      "    (1): ReLU(inplace=True)\n",
      "    (2): Conv2d(64, 64, kernel_size=(3, 3), stride=(1, 1), padding=(1, 1))\n",
      "    (3): ReLU(inplace=True)\n",
      "    (4): MaxPool2d(kernel_size=2, stride=2, padding=0, dilation=1, ceil_mode=False)\n",
      "    (5): Conv2d(64, 128, kernel_size=(3, 3), stride=(1, 1), padding=(1, 1))\n",
      "    (6): ReLU(inplace=True)\n",
      "    (7): Conv2d(128, 128, kernel_size=(3, 3), stride=(1, 1), padding=(1, 1))\n",
      "    (8): ReLU(inplace=True)\n",
      "    (9): MaxPool2d(kernel_size=2, stride=2, padding=0, dilation=1, ceil_mode=False)\n",
      "    (10): Conv2d(128, 256, kernel_size=(3, 3), stride=(1, 1), padding=(1, 1))\n",
      "    (11): ReLU(inplace=True)\n",
      "    (12): Conv2d(256, 256, kernel_size=(3, 3), stride=(1, 1), padding=(1, 1))\n",
      "    (13): ReLU(inplace=True)\n",
      "    (14): Conv2d(256, 256, kernel_size=(3, 3), stride=(1, 1), padding=(1, 1))\n",
      "    (15): ReLU(inplace=True)\n",
      "    (16): MaxPool2d(kernel_size=2, stride=2, padding=0, dilation=1, ceil_mode=False)\n",
      "    (17): Conv2d(256, 512, kernel_size=(3, 3), stride=(1, 1), padding=(1, 1))\n",
      "    (18): ReLU(inplace=True)\n",
      "    (19): Conv2d(512, 512, kernel_size=(3, 3), stride=(1, 1), padding=(1, 1))\n",
      "    (20): ReLU(inplace=True)\n",
      "    (21): Conv2d(512, 512, kernel_size=(3, 3), stride=(1, 1), padding=(1, 1))\n",
      "    (22): ReLU(inplace=True)\n",
      "    (23): MaxPool2d(kernel_size=2, stride=2, padding=0, dilation=1, ceil_mode=False)\n",
      "    (24): Conv2d(512, 512, kernel_size=(3, 3), stride=(1, 1), padding=(1, 1))\n",
      "    (25): ReLU(inplace=True)\n",
      "    (26): Conv2d(512, 512, kernel_size=(3, 3), stride=(1, 1), padding=(1, 1))\n",
      "    (27): ReLU(inplace=True)\n",
      "    (28): Conv2d(512, 512, kernel_size=(3, 3), stride=(1, 1), padding=(1, 1))\n",
      "    (29): ReLU(inplace=True)\n",
      "    (30): MaxPool2d(kernel_size=2, stride=2, padding=0, dilation=1, ceil_mode=False)\n",
      "  )\n",
      "  (avgpool): AdaptiveAvgPool2d(output_size=(7, 7))\n",
      "  (classifier): Sequential(\n",
      "    (0): Linear(in_features=25088, out_features=1024, bias=True)\n",
      "    (1): ReLU()\n",
      "    (2): Dropout(p=0.4, inplace=False)\n",
      "    (3): Linear(in_features=1024, out_features=1, bias=True)\n",
      "  )\n",
      ")\n"
     ]
    }
   ],
   "source": [
    "print(modelA)\n",
    "print(modelB)"
   ]
  },
  {
   "cell_type": "code",
   "execution_count": 15,
   "metadata": {},
   "outputs": [],
   "source": [
    "#full_core = cv2.imread('../Machine Learning_GARTH/Garth_base_oriented.jpg')\n",
    "#full_core = cv2.cvtColor(full_core,cv2.COLOR_BGR2RGB)\n",
    "\n",
    "Image.MAX_IMAGE_PIXELS = None\n",
    "\n",
    "#full_core = np.array(Image.open('../Machine Learning_GARTH/Gelito5_oriented2.jpg'))\n",
    "full_core = np.array(Image.open('../Machine Learning_GARTH/Garth_base_oriented.jpg').getchannel('G'))\n",
    "\n",
    "\n",
    "trans = tf.Compose([tf.Resize((256,256), interpolation=2),\n",
    "                  tf.ToTensor(),\n",
    "                   ])"
   ]
  },
  {
   "cell_type": "code",
   "execution_count": 16,
   "metadata": {},
   "outputs": [],
   "source": [
    "#Slice the Image\n"
   ]
  },
  {
   "cell_type": "code",
   "execution_count": 17,
   "metadata": {},
   "outputs": [
    {
     "name": "stdout",
     "output_type": "stream",
     "text": [
      "3994 39022\n",
      "154 110\n",
      "15 152\n"
     ]
    }
   ],
   "source": [
    "h_in = 256\n",
    "w_in = 256\n",
    "\n",
    "h = full_core.shape[0]\n",
    "w = full_core.shape[1]\n",
    "\n",
    "n_h = h//h_in\n",
    "n_w = w//w_in\n",
    "\n",
    "r_h = h%h_in\n",
    "r_w = w%w_in\n",
    "\n",
    "print(h,w)\n",
    "print(r_h,r_w)\n",
    "print(n_h,n_w)\n",
    "\n",
    "full_core = full_core[int(r_h/2):(h-int(r_h/2)),int(r_w/2):(w-int(r_w/2))]"
   ]
  },
  {
   "cell_type": "code",
   "execution_count": 18,
   "metadata": {},
   "outputs": [],
   "source": [
    "#Feed in the image and collect results"
   ]
  },
  {
   "cell_type": "code",
   "execution_count": 19,
   "metadata": {},
   "outputs": [
    {
     "name": "stdout",
     "output_type": "stream",
     "text": [
      "0.0%\n",
      "10.0%\n",
      "20.0%\n",
      "30.0%\n",
      "40.0%\n",
      "50.0%\n",
      "60.0%\n",
      "70.0%\n",
      "80.0%\n",
      "90.0%\n",
      "100.0%\n",
      "24.291206121444702\n"
     ]
    }
   ],
   "source": [
    "quality_matrix = np.zeros((n_h,n_w), dtype = int) \n",
    "layer_matrix = np.zeros((n_h,n_w), dtype = float)\n",
    "\n",
    "w_point = 0\n",
    "start_time = time.time()\n",
    "\n",
    "for j in range(n_w):\n",
    "    if j%15 ==0:\n",
    "        print(f'{j//15*10:.1F}%')\n",
    "    h_point = 0\n",
    "    for i in range(n_h):        \n",
    "        active_image = full_core[h_point:h_point+h_in,w_point:w_point+w_in]\n",
    "        active_image = Image.fromarray(active_image)\n",
    "        \n",
    "        h_point+=h_in\n",
    "        \n",
    "        quality_matrix[i,j] =  modelA(trans(active_image).view(1,1,256,256).cuda()).argmax(dim=1).item()\n",
    "        \n",
    "        if quality_matrix[i,j]>=1:\n",
    "            layer_matrix[i,j] =   modelB(trans(active_image).view(1,1,256,256).cuda()).item()\n",
    "            \n",
    "    w_point+=w_in\n",
    "\n",
    "print(time.time()-start_time)\n",
    "        \n",
    "        "
   ]
  },
  {
   "cell_type": "code",
   "execution_count": 20,
   "metadata": {},
   "outputs": [
    {
     "data": {
      "text/plain": [
       "(256, 256)"
      ]
     },
     "execution_count": 20,
     "metadata": {},
     "output_type": "execute_result"
    }
   ],
   "source": [
    "active_image.size"
   ]
  },
  {
   "cell_type": "code",
   "execution_count": 21,
   "metadata": {},
   "outputs": [
    {
     "data": {
      "text/plain": [
       "array([[2.39479351, 2.66245389, 3.60615873, ..., 0.        , 0.        ,\n",
       "        0.        ],\n",
       "       [1.3472724 , 0.        , 1.88908327, ..., 0.        , 0.        ,\n",
       "        0.        ],\n",
       "       [0.        , 0.        , 0.        , ..., 0.        , 0.        ,\n",
       "        0.        ],\n",
       "       ...,\n",
       "       [0.        , 0.        , 0.        , ..., 0.        , 0.        ,\n",
       "        0.        ],\n",
       "       [0.        , 0.        , 0.        , ..., 0.        , 0.        ,\n",
       "        0.        ],\n",
       "       [0.        , 0.        , 0.        , ..., 0.        , 0.        ,\n",
       "        0.        ]])"
      ]
     },
     "execution_count": 21,
     "metadata": {},
     "output_type": "execute_result"
    }
   ],
   "source": [
    "layer_matrix"
   ]
  },
  {
   "cell_type": "code",
   "execution_count": 22,
   "metadata": {},
   "outputs": [],
   "source": [
    "#save model\n",
    "\n",
    "tosave = pd.DataFrame(layer_matrix)\n",
    "tosave.head()\n",
    "tosave.to_csv('layer_matrix_2.csv',index=False, header=True)\n",
    "\n"
   ]
  },
  {
   "cell_type": "code",
   "execution_count": 23,
   "metadata": {},
   "outputs": [],
   "source": [
    "#load model\n",
    "toload=pd.read_csv('layer_matrix_2.csv')\n",
    "layer_matrix1 = toload.to_numpy()\n",
    "layer_matrix= layer_matrix1"
   ]
  },
  {
   "cell_type": "code",
   "execution_count": null,
   "metadata": {},
   "outputs": [
    {
     "name": "stdout",
     "output_type": "stream",
     "text": [
      "0.0%\n",
      "10.0%\n",
      "20.0%\n",
      "30.0%\n",
      "40.0%\n"
     ]
    }
   ],
   "source": [
    "full_core_density_bin = np.zeros((full_core.shape[0],full_core.shape[1]), dtype = float)\n",
    "\n",
    "for j in range(full_core_density_bin.shape[1]-1):\n",
    "    if j%3800 ==0:\n",
    "        print(f'{j//3800*10:.1F}%')\n",
    "    for i in range(full_core_density_bin.shape[0]):\n",
    "        full_core_density_bin[i,j]=layer_matrix[i//256,j//256]"
   ]
  },
  {
   "cell_type": "code",
   "execution_count": null,
   "metadata": {},
   "outputs": [],
   "source": [
    "fig,(ax1,ax2,ax3) = plt.subplots(nrows=3,ncols=1, sharex=False)\n",
    "\n",
    "im = ax2.imshow(full_core_density_bin,cmap='hot')\n",
    "fig.colorbar(im, ax = ax3, orientation='horizontal')\n",
    "\n",
    "#ax1.set_xticklabels()\n",
    "fig.set_figheight(8)\n",
    "fig.set_figwidth(15)\n",
    "ax1.imshow(full_core)\n",
    "ax1.set_yticks([])\n",
    "ax2.set_yticks([])\n",
    "ax1.set_xticks(np.round(np.linspace(0,full_core.shape[1],10)))\n",
    "ax1.set_xticklabels(np.linspace(0,24251,10,dtype=int))\n",
    "\n",
    "ax2.set_xticks(np.round(np.linspace(0,full_core.shape[1],10)))\n",
    "ax2.set_xticklabels(np.linspace(0,24251,10,dtype=int))\n",
    "ax2.set_xlabel('position in core (um)')\n",
    "ax3.imshow(np.zeros([1,full_core.shape[1]]))\n",
    "ax3.set_yticks([])\n",
    "ax3.set_xticks([])\n",
    "ax3.set_xticklabels([])\n",
    "ax3.set_axis_off()\n",
    "\n",
    "plt.show()\n"
   ]
  },
  {
   "cell_type": "code",
   "execution_count": null,
   "metadata": {},
   "outputs": [],
   "source": []
  },
  {
   "cell_type": "code",
   "execution_count": 10,
   "metadata": {},
   "outputs": [],
   "source": [
    "#Uncertainty - Monte Carlo"
   ]
  },
  {
   "cell_type": "code",
   "execution_count": 11,
   "metadata": {},
   "outputs": [
    {
     "ename": "NameError",
     "evalue": "name 'stats' is not defined",
     "output_type": "error",
     "traceback": [
      "\u001b[1;31m---------------------------------------------------------------------------\u001b[0m",
      "\u001b[1;31mNameError\u001b[0m                                 Traceback (most recent call last)",
      "\u001b[1;32m<ipython-input-11-141e345cf97c>\u001b[0m in \u001b[0;36m<module>\u001b[1;34m\u001b[0m\n\u001b[0;32m      9\u001b[0m     \u001b[0mlayer_reduced\u001b[0m\u001b[1;33m.\u001b[0m\u001b[0mappend\u001b[0m\u001b[1;33m(\u001b[0m\u001b[0mpopul\u001b[0m\u001b[1;33m)\u001b[0m\u001b[1;33m\u001b[0m\u001b[1;33m\u001b[0m\u001b[0m\n\u001b[0;32m     10\u001b[0m     \u001b[0msd\u001b[0m\u001b[1;33m.\u001b[0m\u001b[0mappend\u001b[0m\u001b[1;33m(\u001b[0m\u001b[0mnp\u001b[0m\u001b[1;33m.\u001b[0m\u001b[0mstd\u001b[0m\u001b[1;33m(\u001b[0m\u001b[0mpopul\u001b[0m\u001b[1;33m)\u001b[0m\u001b[1;33m)\u001b[0m\u001b[1;33m\u001b[0m\u001b[1;33m\u001b[0m\u001b[0m\n\u001b[1;32m---> 11\u001b[1;33m     \u001b[0msem\u001b[0m\u001b[1;33m.\u001b[0m\u001b[0mappend\u001b[0m\u001b[1;33m(\u001b[0m\u001b[0mstats\u001b[0m\u001b[1;33m.\u001b[0m\u001b[0msem\u001b[0m\u001b[1;33m(\u001b[0m\u001b[0mpopul\u001b[0m\u001b[1;33m)\u001b[0m\u001b[1;33m)\u001b[0m\u001b[1;33m\u001b[0m\u001b[1;33m\u001b[0m\u001b[0m\n\u001b[0m\u001b[0;32m     12\u001b[0m     \u001b[0mavg\u001b[0m\u001b[1;33m.\u001b[0m\u001b[0mappend\u001b[0m\u001b[1;33m(\u001b[0m\u001b[0mnp\u001b[0m\u001b[1;33m.\u001b[0m\u001b[0mmean\u001b[0m\u001b[1;33m(\u001b[0m\u001b[0mpopul\u001b[0m\u001b[1;33m)\u001b[0m\u001b[1;33m)\u001b[0m\u001b[1;33m\u001b[0m\u001b[1;33m\u001b[0m\u001b[0m\n\u001b[0;32m     13\u001b[0m     \u001b[0mn\u001b[0m\u001b[1;33m.\u001b[0m\u001b[0mappend\u001b[0m\u001b[1;33m(\u001b[0m\u001b[0mpopul\u001b[0m\u001b[1;33m.\u001b[0m\u001b[0msize\u001b[0m\u001b[1;33m)\u001b[0m\u001b[1;33m\u001b[0m\u001b[1;33m\u001b[0m\u001b[0m\n",
      "\u001b[1;31mNameError\u001b[0m: name 'stats' is not defined"
     ]
    }
   ],
   "source": [
    "carlo = []\n",
    "layer_reduced=[]\n",
    "sd=[]\n",
    "sem=[]\n",
    "avg=[]\n",
    "n=[]\n",
    "for j in range(layer_matrix.shape[1]-1):\n",
    "    popul = layer_matrix[:,j][layer_matrix[:,j]!=0]\n",
    "    layer_reduced.append(popul)\n",
    "    sd.append(np.std(popul))\n",
    "    sem.append(stats.sem(popul))\n",
    "    avg.append(np.mean(popul))\n",
    "    n.append(popul.size)\n",
    "    \n",
    "sd.append(0)\n",
    "sem.append(0)\n",
    "avg.append(0)\n",
    "n.append(0)\n",
    "\n",
    "\n",
    "for i in range(10000):\n",
    "    carlo_count = 0\n",
    "    for j in range(layer_matrix.shape[1]):\n",
    "        popul = layer_matrix[:,j][layer_matrix[:,j]!=0]\n",
    "        try:\n",
    "            carlo_count += np.random.choice(popul,1,replace=False)\n",
    "        except:\n",
    "            pass\n",
    "    carlo.append(carlo_count.item())\n",
    "\n"
   ]
  },
  {
   "cell_type": "code",
   "execution_count": null,
   "metadata": {},
   "outputs": [],
   "source": []
  },
  {
   "cell_type": "code",
   "execution_count": 12,
   "metadata": {},
   "outputs": [
    {
     "ename": "ValueError",
     "evalue": "min() arg is an empty sequence",
     "output_type": "error",
     "traceback": [
      "\u001b[1;31m---------------------------------------------------------------------------\u001b[0m",
      "\u001b[1;31mValueError\u001b[0m                                Traceback (most recent call last)",
      "\u001b[1;32m<ipython-input-12-dee8e7dc062a>\u001b[0m in \u001b[0;36m<module>\u001b[1;34m\u001b[0m\n\u001b[1;32m----> 1\u001b[1;33m \u001b[0mminimmun\u001b[0m \u001b[1;33m=\u001b[0m \u001b[0mmin\u001b[0m\u001b[1;33m(\u001b[0m\u001b[0mcarlo\u001b[0m\u001b[1;33m)\u001b[0m\u001b[1;33m\u001b[0m\u001b[1;33m\u001b[0m\u001b[0m\n\u001b[0m\u001b[0;32m      2\u001b[0m \u001b[0mmaximum\u001b[0m \u001b[1;33m=\u001b[0m \u001b[0mmax\u001b[0m\u001b[1;33m(\u001b[0m\u001b[0mcarlo\u001b[0m\u001b[1;33m)\u001b[0m\u001b[1;33m\u001b[0m\u001b[1;33m\u001b[0m\u001b[0m\n\u001b[0;32m      3\u001b[0m \u001b[0mavg\u001b[0m \u001b[1;33m=\u001b[0m \u001b[0mstatistics\u001b[0m\u001b[1;33m.\u001b[0m\u001b[0mmean\u001b[0m\u001b[1;33m(\u001b[0m\u001b[0mcarlo\u001b[0m\u001b[1;33m)\u001b[0m\u001b[1;33m\u001b[0m\u001b[1;33m\u001b[0m\u001b[0m\n\u001b[0;32m      4\u001b[0m \u001b[0mmed\u001b[0m \u001b[1;33m=\u001b[0m \u001b[0mstatistics\u001b[0m\u001b[1;33m.\u001b[0m\u001b[0mmedian\u001b[0m\u001b[1;33m(\u001b[0m\u001b[0mcarlo\u001b[0m\u001b[1;33m)\u001b[0m\u001b[1;33m\u001b[0m\u001b[1;33m\u001b[0m\u001b[0m\n\u001b[0;32m      5\u001b[0m \u001b[0mcarlo_sd\u001b[0m\u001b[1;33m=\u001b[0m\u001b[0mstatistics\u001b[0m\u001b[1;33m.\u001b[0m\u001b[0mstdev\u001b[0m\u001b[1;33m(\u001b[0m\u001b[0mcarlo\u001b[0m\u001b[1;33m)\u001b[0m\u001b[1;33m\u001b[0m\u001b[1;33m\u001b[0m\u001b[0m\n",
      "\u001b[1;31mValueError\u001b[0m: min() arg is an empty sequence"
     ]
    }
   ],
   "source": [
    "minimmun = min(carlo)\n",
    "maximum = max(carlo)\n",
    "avg = statistics.mean(carlo)\n",
    "med = statistics.median(carlo)\n",
    "carlo_sd=statistics.stdev(carlo)\n",
    "\n",
    "plt.figure(figsize=(4,4))\n",
    "\n",
    "plt.hist(carlo,bins=(range(740,855,5)))\n",
    "\n",
    "plt.xlabel('n total layers in core')\n",
    "plt.ylabel('count of Monte Carlo (10000)')\n",
    "\n",
    "plt.savefig('plot4.png')\n",
    "\n",
    "plt.show()\n",
    "\n",
    "print(minimmun,maximum,carlo_sd, avg,med)"
   ]
  },
  {
   "cell_type": "code",
   "execution_count": 13,
   "metadata": {},
   "outputs": [
    {
     "data": {
      "text/plain": [
       "0"
      ]
     },
     "execution_count": 13,
     "metadata": {},
     "output_type": "execute_result"
    }
   ],
   "source": [
    "len(sem)"
   ]
  },
  {
   "cell_type": "code",
   "execution_count": 14,
   "metadata": {},
   "outputs": [
    {
     "name": "stdout",
     "output_type": "stream",
     "text": [
      "[    0.           159.54605263   319.09210526   478.63815789\n",
      "   638.18421053   797.73026316   957.27631579  1116.82236842\n",
      "  1276.36842105  1435.91447368  1595.46052632  1755.00657895\n",
      "  1914.55263158  2074.09868421  2233.64473684  2393.19078947\n",
      "  2552.73684211  2712.28289474  2871.82894737  3031.375\n",
      "  3190.92105263  3350.46710526  3510.01315789  3669.55921053\n",
      "  3829.10526316  3988.65131579  4148.19736842  4307.74342105\n",
      "  4467.28947368  4626.83552632  4786.38157895  4945.92763158\n",
      "  5105.47368421  5265.01973684  5424.56578947  5584.11184211\n",
      "  5743.65789474  5903.20394737  6062.75        6222.29605263\n",
      "  6381.84210526  6541.38815789  6700.93421053  6860.48026316\n",
      "  7020.02631579  7179.57236842  7339.11842105  7498.66447368\n",
      "  7658.21052632  7817.75657895  7977.30263158  8136.84868421\n",
      "  8296.39473684  8455.94078947  8615.48684211  8775.03289474\n",
      "  8934.57894737  9094.125       9253.67105263  9413.21710526\n",
      "  9572.76315789  9732.30921053  9891.85526316 10051.40131579\n",
      " 10210.94736842 10370.49342105 10530.03947368 10689.58552632\n",
      " 10849.13157895 11008.67763158 11168.22368421 11327.76973684\n",
      " 11487.31578947 11646.86184211 11806.40789474 11965.95394737\n",
      " 12125.5        12285.04605263 12444.59210526 12604.13815789\n",
      " 12763.68421053 12923.23026316 13082.77631579 13242.32236842\n",
      " 13401.86842105 13561.41447368 13720.96052632 13880.50657895\n",
      " 14040.05263158 14199.59868421 14359.14473684 14518.69078947\n",
      " 14678.23684211 14837.78289474 14997.32894737 15156.875\n",
      " 15316.42105263 15475.96710526 15635.51315789 15795.05921053\n",
      " 15954.60526316 16114.15131579 16273.69736842 16433.24342105\n",
      " 16592.78947368 16752.33552632 16911.88157895 17071.42763158\n",
      " 17230.97368421 17390.51973684 17550.06578947 17709.61184211\n",
      " 17869.15789474 18028.70394737 18188.25       18347.79605263\n",
      " 18507.34210526 18666.88815789 18826.43421053 18985.98026316\n",
      " 19145.52631579 19305.07236842 19464.61842105 19624.16447368\n",
      " 19783.71052632 19943.25657895 20102.80263158 20262.34868421\n",
      " 20421.89473684 20581.44078947 20740.98684211 20900.53289474\n",
      " 21060.07894737 21219.625      21379.17105263 21538.71710526\n",
      " 21698.26315789 21857.80921053 22017.35526316 22176.90131579\n",
      " 22336.44736842 22495.99342105 22655.53947368 22815.08552632\n",
      " 22974.63157895 23134.17763158 23293.72368421 23453.26973684\n",
      " 23612.81578947 23772.36184211 23931.90789474 24091.45394737]\n",
      "[  159.54605263   319.09210526   478.63815789   638.18421053\n",
      "   797.73026316   957.27631579  1116.82236842  1276.36842105\n",
      "  1435.91447368  1595.46052632  1755.00657895  1914.55263158\n",
      "  2074.09868421  2233.64473684  2393.19078947  2552.73684211\n",
      "  2712.28289474  2871.82894737  3031.375       3190.92105263\n",
      "  3350.46710526  3510.01315789  3669.55921053  3829.10526316\n",
      "  3988.65131579  4148.19736842  4307.74342105  4467.28947368\n",
      "  4626.83552632  4786.38157895  4945.92763158  5105.47368421\n",
      "  5265.01973684  5424.56578947  5584.11184211  5743.65789474\n",
      "  5903.20394737  6062.75        6222.29605263  6381.84210526\n",
      "  6541.38815789  6700.93421053  6860.48026316  7020.02631579\n",
      "  7179.57236842  7339.11842105  7498.66447368  7658.21052632\n",
      "  7817.75657895  7977.30263158  8136.84868421  8296.39473684\n",
      "  8455.94078947  8615.48684211  8775.03289474  8934.57894737\n",
      "  9094.125       9253.67105263  9413.21710526  9572.76315789\n",
      "  9732.30921053  9891.85526316 10051.40131579 10210.94736842\n",
      " 10370.49342105 10530.03947368 10689.58552632 10849.13157895\n",
      " 11008.67763158 11168.22368421 11327.76973684 11487.31578947\n",
      " 11646.86184211 11806.40789474 11965.95394737 12125.5\n",
      " 12285.04605263 12444.59210526 12604.13815789 12763.68421053\n",
      " 12923.23026316 13082.77631579 13242.32236842 13401.86842105\n",
      " 13561.41447368 13720.96052632 13880.50657895 14040.05263158\n",
      " 14199.59868421 14359.14473684 14518.69078947 14678.23684211\n",
      " 14837.78289474 14997.32894737 15156.875      15316.42105263\n",
      " 15475.96710526 15635.51315789 15795.05921053 15954.60526316\n",
      " 16114.15131579 16273.69736842 16433.24342105 16592.78947368\n",
      " 16752.33552632 16911.88157895 17071.42763158 17230.97368421\n",
      " 17390.51973684 17550.06578947 17709.61184211 17869.15789474\n",
      " 18028.70394737 18188.25       18347.79605263 18507.34210526\n",
      " 18666.88815789 18826.43421053 18985.98026316 19145.52631579\n",
      " 19305.07236842 19464.61842105 19624.16447368 19783.71052632\n",
      " 19943.25657895 20102.80263158 20262.34868421 20421.89473684\n",
      " 20581.44078947 20740.98684211 20900.53289474 21060.07894737\n",
      " 21219.625      21379.17105263 21538.71710526 21698.26315789\n",
      " 21857.80921053 22017.35526316 22176.90131579 22336.44736842\n",
      " 22495.99342105 22655.53947368 22815.08552632 22974.63157895\n",
      " 23134.17763158 23293.72368421 23453.26973684 23612.81578947\n",
      " 23772.36184211 23931.90789474 24091.45394737 24251.        ]\n"
     ]
    }
   ],
   "source": [
    "stepsize = 24251/152\n",
    "start = np.array([i*stepsize for i in range(152)])\n",
    "print(start)\n",
    "stop = start + stepsize\n",
    "\n",
    "print(stop)"
   ]
  },
  {
   "cell_type": "code",
   "execution_count": 15,
   "metadata": {},
   "outputs": [],
   "source": [
    "output_file = pd.DataFrame()"
   ]
  },
  {
   "cell_type": "code",
   "execution_count": 16,
   "metadata": {},
   "outputs": [
    {
     "ename": "ValueError",
     "evalue": "Length of values does not match length of index",
     "output_type": "error",
     "traceback": [
      "\u001b[1;31m---------------------------------------------------------------------------\u001b[0m",
      "\u001b[1;31mValueError\u001b[0m                                Traceback (most recent call last)",
      "\u001b[1;32m<ipython-input-16-f1cb18d5215e>\u001b[0m in \u001b[0;36m<module>\u001b[1;34m\u001b[0m\n\u001b[0;32m      2\u001b[0m \u001b[0moutput_file\u001b[0m\u001b[1;33m[\u001b[0m\u001b[1;34m'to_um'\u001b[0m\u001b[1;33m]\u001b[0m\u001b[1;33m=\u001b[0m\u001b[0mstop\u001b[0m\u001b[1;33m\u001b[0m\u001b[1;33m\u001b[0m\u001b[0m\n\u001b[0;32m      3\u001b[0m \u001b[1;33m\u001b[0m\u001b[0m\n\u001b[1;32m----> 4\u001b[1;33m \u001b[0moutput_file\u001b[0m\u001b[1;33m[\u001b[0m\u001b[1;34m'countable_imgs'\u001b[0m\u001b[1;33m]\u001b[0m\u001b[1;33m=\u001b[0m\u001b[0mn\u001b[0m\u001b[1;33m\u001b[0m\u001b[1;33m\u001b[0m\u001b[0m\n\u001b[0m\u001b[0;32m      5\u001b[0m \u001b[1;33m\u001b[0m\u001b[0m\n\u001b[0;32m      6\u001b[0m \u001b[1;33m\u001b[0m\u001b[0m\n",
      "\u001b[1;32m~\\anaconda3\\envs\\PythonAI\\lib\\site-packages\\pandas\\core\\frame.py\u001b[0m in \u001b[0;36m__setitem__\u001b[1;34m(self, key, value)\u001b[0m\n\u001b[0;32m   2936\u001b[0m         \u001b[1;32melse\u001b[0m\u001b[1;33m:\u001b[0m\u001b[1;33m\u001b[0m\u001b[1;33m\u001b[0m\u001b[0m\n\u001b[0;32m   2937\u001b[0m             \u001b[1;31m# set column\u001b[0m\u001b[1;33m\u001b[0m\u001b[1;33m\u001b[0m\u001b[1;33m\u001b[0m\u001b[0m\n\u001b[1;32m-> 2938\u001b[1;33m             \u001b[0mself\u001b[0m\u001b[1;33m.\u001b[0m\u001b[0m_set_item\u001b[0m\u001b[1;33m(\u001b[0m\u001b[0mkey\u001b[0m\u001b[1;33m,\u001b[0m \u001b[0mvalue\u001b[0m\u001b[1;33m)\u001b[0m\u001b[1;33m\u001b[0m\u001b[1;33m\u001b[0m\u001b[0m\n\u001b[0m\u001b[0;32m   2939\u001b[0m \u001b[1;33m\u001b[0m\u001b[0m\n\u001b[0;32m   2940\u001b[0m     \u001b[1;32mdef\u001b[0m \u001b[0m_setitem_slice\u001b[0m\u001b[1;33m(\u001b[0m\u001b[0mself\u001b[0m\u001b[1;33m,\u001b[0m \u001b[0mkey\u001b[0m\u001b[1;33m,\u001b[0m \u001b[0mvalue\u001b[0m\u001b[1;33m)\u001b[0m\u001b[1;33m:\u001b[0m\u001b[1;33m\u001b[0m\u001b[1;33m\u001b[0m\u001b[0m\n",
      "\u001b[1;32m~\\anaconda3\\envs\\PythonAI\\lib\\site-packages\\pandas\\core\\frame.py\u001b[0m in \u001b[0;36m_set_item\u001b[1;34m(self, key, value)\u001b[0m\n\u001b[0;32m   2998\u001b[0m \u001b[1;33m\u001b[0m\u001b[0m\n\u001b[0;32m   2999\u001b[0m         \u001b[0mself\u001b[0m\u001b[1;33m.\u001b[0m\u001b[0m_ensure_valid_index\u001b[0m\u001b[1;33m(\u001b[0m\u001b[0mvalue\u001b[0m\u001b[1;33m)\u001b[0m\u001b[1;33m\u001b[0m\u001b[1;33m\u001b[0m\u001b[0m\n\u001b[1;32m-> 3000\u001b[1;33m         \u001b[0mvalue\u001b[0m \u001b[1;33m=\u001b[0m \u001b[0mself\u001b[0m\u001b[1;33m.\u001b[0m\u001b[0m_sanitize_column\u001b[0m\u001b[1;33m(\u001b[0m\u001b[0mkey\u001b[0m\u001b[1;33m,\u001b[0m \u001b[0mvalue\u001b[0m\u001b[1;33m)\u001b[0m\u001b[1;33m\u001b[0m\u001b[1;33m\u001b[0m\u001b[0m\n\u001b[0m\u001b[0;32m   3001\u001b[0m         \u001b[0mNDFrame\u001b[0m\u001b[1;33m.\u001b[0m\u001b[0m_set_item\u001b[0m\u001b[1;33m(\u001b[0m\u001b[0mself\u001b[0m\u001b[1;33m,\u001b[0m \u001b[0mkey\u001b[0m\u001b[1;33m,\u001b[0m \u001b[0mvalue\u001b[0m\u001b[1;33m)\u001b[0m\u001b[1;33m\u001b[0m\u001b[1;33m\u001b[0m\u001b[0m\n\u001b[0;32m   3002\u001b[0m \u001b[1;33m\u001b[0m\u001b[0m\n",
      "\u001b[1;32m~\\anaconda3\\envs\\PythonAI\\lib\\site-packages\\pandas\\core\\frame.py\u001b[0m in \u001b[0;36m_sanitize_column\u001b[1;34m(self, key, value, broadcast)\u001b[0m\n\u001b[0;32m   3634\u001b[0m \u001b[1;33m\u001b[0m\u001b[0m\n\u001b[0;32m   3635\u001b[0m             \u001b[1;31m# turn me into an ndarray\u001b[0m\u001b[1;33m\u001b[0m\u001b[1;33m\u001b[0m\u001b[1;33m\u001b[0m\u001b[0m\n\u001b[1;32m-> 3636\u001b[1;33m             \u001b[0mvalue\u001b[0m \u001b[1;33m=\u001b[0m \u001b[0msanitize_index\u001b[0m\u001b[1;33m(\u001b[0m\u001b[0mvalue\u001b[0m\u001b[1;33m,\u001b[0m \u001b[0mself\u001b[0m\u001b[1;33m.\u001b[0m\u001b[0mindex\u001b[0m\u001b[1;33m,\u001b[0m \u001b[0mcopy\u001b[0m\u001b[1;33m=\u001b[0m\u001b[1;32mFalse\u001b[0m\u001b[1;33m)\u001b[0m\u001b[1;33m\u001b[0m\u001b[1;33m\u001b[0m\u001b[0m\n\u001b[0m\u001b[0;32m   3637\u001b[0m             \u001b[1;32mif\u001b[0m \u001b[1;32mnot\u001b[0m \u001b[0misinstance\u001b[0m\u001b[1;33m(\u001b[0m\u001b[0mvalue\u001b[0m\u001b[1;33m,\u001b[0m \u001b[1;33m(\u001b[0m\u001b[0mnp\u001b[0m\u001b[1;33m.\u001b[0m\u001b[0mndarray\u001b[0m\u001b[1;33m,\u001b[0m \u001b[0mIndex\u001b[0m\u001b[1;33m)\u001b[0m\u001b[1;33m)\u001b[0m\u001b[1;33m:\u001b[0m\u001b[1;33m\u001b[0m\u001b[1;33m\u001b[0m\u001b[0m\n\u001b[0;32m   3638\u001b[0m                 \u001b[1;32mif\u001b[0m \u001b[0misinstance\u001b[0m\u001b[1;33m(\u001b[0m\u001b[0mvalue\u001b[0m\u001b[1;33m,\u001b[0m \u001b[0mlist\u001b[0m\u001b[1;33m)\u001b[0m \u001b[1;32mand\u001b[0m \u001b[0mlen\u001b[0m\u001b[1;33m(\u001b[0m\u001b[0mvalue\u001b[0m\u001b[1;33m)\u001b[0m \u001b[1;33m>\u001b[0m \u001b[1;36m0\u001b[0m\u001b[1;33m:\u001b[0m\u001b[1;33m\u001b[0m\u001b[1;33m\u001b[0m\u001b[0m\n",
      "\u001b[1;32m~\\anaconda3\\envs\\PythonAI\\lib\\site-packages\\pandas\\core\\internals\\construction.py\u001b[0m in \u001b[0;36msanitize_index\u001b[1;34m(data, index, copy)\u001b[0m\n\u001b[0;32m    609\u001b[0m \u001b[1;33m\u001b[0m\u001b[0m\n\u001b[0;32m    610\u001b[0m     \u001b[1;32mif\u001b[0m \u001b[0mlen\u001b[0m\u001b[1;33m(\u001b[0m\u001b[0mdata\u001b[0m\u001b[1;33m)\u001b[0m \u001b[1;33m!=\u001b[0m \u001b[0mlen\u001b[0m\u001b[1;33m(\u001b[0m\u001b[0mindex\u001b[0m\u001b[1;33m)\u001b[0m\u001b[1;33m:\u001b[0m\u001b[1;33m\u001b[0m\u001b[1;33m\u001b[0m\u001b[0m\n\u001b[1;32m--> 611\u001b[1;33m         \u001b[1;32mraise\u001b[0m \u001b[0mValueError\u001b[0m\u001b[1;33m(\u001b[0m\u001b[1;34m\"Length of values does not match length of index\"\u001b[0m\u001b[1;33m)\u001b[0m\u001b[1;33m\u001b[0m\u001b[1;33m\u001b[0m\u001b[0m\n\u001b[0m\u001b[0;32m    612\u001b[0m \u001b[1;33m\u001b[0m\u001b[0m\n\u001b[0;32m    613\u001b[0m     \u001b[1;32mif\u001b[0m \u001b[0misinstance\u001b[0m\u001b[1;33m(\u001b[0m\u001b[0mdata\u001b[0m\u001b[1;33m,\u001b[0m \u001b[0mABCIndexClass\u001b[0m\u001b[1;33m)\u001b[0m \u001b[1;32mand\u001b[0m \u001b[1;32mnot\u001b[0m \u001b[0mcopy\u001b[0m\u001b[1;33m:\u001b[0m\u001b[1;33m\u001b[0m\u001b[1;33m\u001b[0m\u001b[0m\n",
      "\u001b[1;31mValueError\u001b[0m: Length of values does not match length of index"
     ]
    }
   ],
   "source": [
    "output_file['from_um']=start\n",
    "output_file['to_um']=stop\n",
    "\n",
    "output_file['countable_imgs']=n\n",
    "\n",
    "\n",
    "output_file['avg']=avg\n",
    "\n",
    "output_file['sd']=sd\n",
    "\n",
    "output_file['sem']=sem\n",
    "\n"
   ]
  },
  {
   "cell_type": "code",
   "execution_count": 17,
   "metadata": {},
   "outputs": [
    {
     "data": {
      "text/html": [
       "<div>\n",
       "<style scoped>\n",
       "    .dataframe tbody tr th:only-of-type {\n",
       "        vertical-align: middle;\n",
       "    }\n",
       "\n",
       "    .dataframe tbody tr th {\n",
       "        vertical-align: top;\n",
       "    }\n",
       "\n",
       "    .dataframe thead th {\n",
       "        text-align: right;\n",
       "    }\n",
       "</style>\n",
       "<table border=\"1\" class=\"dataframe\">\n",
       "  <thead>\n",
       "    <tr style=\"text-align: right;\">\n",
       "      <th></th>\n",
       "      <th>from_um</th>\n",
       "      <th>to_um</th>\n",
       "    </tr>\n",
       "  </thead>\n",
       "  <tbody>\n",
       "    <tr>\n",
       "      <th>0</th>\n",
       "      <td>0.000000</td>\n",
       "      <td>159.546053</td>\n",
       "    </tr>\n",
       "    <tr>\n",
       "      <th>1</th>\n",
       "      <td>159.546053</td>\n",
       "      <td>319.092105</td>\n",
       "    </tr>\n",
       "    <tr>\n",
       "      <th>2</th>\n",
       "      <td>319.092105</td>\n",
       "      <td>478.638158</td>\n",
       "    </tr>\n",
       "    <tr>\n",
       "      <th>3</th>\n",
       "      <td>478.638158</td>\n",
       "      <td>638.184211</td>\n",
       "    </tr>\n",
       "    <tr>\n",
       "      <th>4</th>\n",
       "      <td>638.184211</td>\n",
       "      <td>797.730263</td>\n",
       "    </tr>\n",
       "  </tbody>\n",
       "</table>\n",
       "</div>"
      ],
      "text/plain": [
       "      from_um       to_um\n",
       "0    0.000000  159.546053\n",
       "1  159.546053  319.092105\n",
       "2  319.092105  478.638158\n",
       "3  478.638158  638.184211\n",
       "4  638.184211  797.730263"
      ]
     },
     "execution_count": 17,
     "metadata": {},
     "output_type": "execute_result"
    }
   ],
   "source": [
    "output_file.head()"
   ]
  },
  {
   "cell_type": "code",
   "execution_count": 18,
   "metadata": {},
   "outputs": [
    {
     "name": "stdout",
     "output_type": "stream",
     "text": [
      "15 152\n"
     ]
    },
    {
     "data": {
      "text/plain": [
       "15"
      ]
     },
     "execution_count": 18,
     "metadata": {},
     "output_type": "execute_result"
    }
   ],
   "source": [
    "#output_file.to_csv('data.csv')\n",
    "print(n_h,n_w)\n",
    "full_core_density_bin = np.zeros((n_h,n_w), dtype = float)\n",
    "full_core_density_bin.shape[0]\n"
   ]
  },
  {
   "cell_type": "code",
   "execution_count": null,
   "metadata": {},
   "outputs": [],
   "source": [
    "\n",
    "        \n",
    "\n",
    "        \n",
    "        \n",
    "        "
   ]
  },
  {
   "cell_type": "code",
   "execution_count": 19,
   "metadata": {},
   "outputs": [
    {
     "data": {
      "image/png": "[encoded data removed]",
      "text/plain": [
       "<Figure size 2016x216 with 2 Axes>"
      ]
     },
     "metadata": {
      "needs_background": "light"
     },
     "output_type": "display_data"
    }
   ],
   "source": [
    "fig3 = plt.figure(figsize=(28,3))\n",
    "#blended = cv2.addWeighted(full_core_density_bin)\n",
    "plt.imshow(full_core_density_bin,cmap='hot')\n",
    "#plt.xticks(ticks=np.linspace(0,layer_matrix.shape[1],7),labels=np.array(np.round(np.linspace(0,24251,7)),dtype=str))\n",
    "plt.yticks([])\n",
    "plt.colorbar()\n",
    "#plt.savefig('plot3.png')\n",
    "plt.show()"
   ]
  },
  {
   "cell_type": "code",
   "execution_count": 11,
   "metadata": {},
   "outputs": [],
   "source": [
    "#Click-Functionality\n",
    "\n",
    "pt1 = (0,0)\n",
    "pt2 = (0,0)\n",
    "\n",
    "click1 = False\n",
    "click2 = False\n",
    "\n",
    "pt3 = (0,0)\n",
    "pt4 = (0,0)\n",
    "\n",
    "click3 = False\n",
    "click4 = False\n",
    "\n",
    "zoom_frame = cv2.resize(full_core.copy(),dsize=(int(full_core.shape[1]/40),int(full_core.shape[0]/40)))\n",
    "            \n",
    "\n",
    "def zoomer(event,x,y,flags,param):\n",
    "\n",
    "    global pt1,pt2,click1,click2\n",
    "    \n",
    "    if event == cv2.EVENT_LBUTTONDOWN:\n",
    "\n",
    "        if click1 == True and click2 == True:\n",
    "            click1 = False\n",
    "            click2 = False\n",
    "            pt1 = (0,0)\n",
    "            pt2 = (0,0)\n",
    "            \n",
    "        elif click1 == False:\n",
    "            pt1 = (x,y)\n",
    "            click1 = True\n",
    "            \n",
    "        elif click2 == False:\n",
    "            pt2 = (x,y)\n",
    "            click2 = True\n",
    "            \n",
    "    \n",
    "    return None\n",
    "\n",
    "def calc_layers(event,x,y,flags,param):\n",
    "    \n",
    "    global pt3,pt4,click3,click4\n",
    "    \n",
    "    if event == cv2.EVENT_LBUTTONDOWN:\n",
    "    \n",
    "        if click3 == True and click4 == True:\n",
    "            click3 = False\n",
    "            click4 = False\n",
    "            pt3 = (0,0)\n",
    "            pt4 = (0,0)\n",
    "\n",
    "        elif click3 == False:\n",
    "            pt3 = (x,y)\n",
    "            click3 = True\n",
    "            \n",
    "        elif click4 == False:\n",
    "            pt4 = (x,y)\n",
    "            click4 = True\n",
    "        \n",
    "        \n",
    "    \n",
    "    return None\n",
    "\n",
    "\n",
    "cv2.namedWindow('Core')\n",
    "\n",
    "\n",
    "# Bind draw_rectangle function to mouse clicks\n",
    "cv2.setMouseCallback('Core', zoomer) \n",
    "\n",
    "frame= cv2.resize(full_core.copy(),dsize=(int(full_core.shape[1]/40),int(full_core.shape[0]/40)))\n",
    "\n",
    "while True:\n",
    "    \n",
    "    if not click1 and not click2: \n",
    "        frame= cv2.resize(full_core.copy(),dsize=(int(full_core.shape[1]/40),int(full_core.shape[0]/40)))\n",
    "\n",
    "    \n",
    "    if click1 and not click2: \n",
    "        cv2.circle(frame, center=pt1, radius=4, color=(0,0,255), thickness=-1)\n",
    "    \n",
    "    cv2.imshow('Core', frame)\n",
    "       \n",
    "    #drawing rectangle\n",
    "    if click1 and click2:\n",
    "        cv2.rectangle(frame, pt1, pt2, (0, 0, 255), 2)\n",
    "        cv2.imshow('Core', frame)\n",
    "\n",
    "     #   cv2.namedWindow('Zoom')\n",
    "     #   cv2.setMouseCallback('Zoom', calc_layers) \n",
    "\n",
    "        \n",
    "        top_left=(40*min(pt1[0],pt2[0]),40*min(pt1[1],pt2[1]))\n",
    "        bottom_right=(40*max(pt1[0],pt2[0]),40*max(pt1[1],pt2[1]))\n",
    "      #  top_right=(bottom_right[0],top_left[1])\n",
    "      #  bottom_left=(bottom_right[1],top_left[0])\n",
    "       \n",
    "        zoom_frame= full_core.copy()[top_left[1]:bottom_right[1],top_left[0]:bottom_right[0]]\n",
    "        zoom_layers=full_core_density_bin.copy()\n",
    "        zoom_layers=zoom_layers[top_left[1]:bottom_right[1],top_left[0]:bottom_right[0]]/256\n",
    "\n",
    "        while True:\n",
    "        \n",
    "            cv2.setMouseCallback('Zoom', calc_layers) \n",
    "           \n",
    "            if not click3 and not click4: \n",
    "                zoom_frame= full_core.copy()[top_left[1]:bottom_right[1],top_left[0]:bottom_right[0]]\n",
    "                \n",
    "        \n",
    "            if click3 and not click4: \n",
    "                cv2.circle(zoom_frame, center=pt3, radius=4, color=(255,0,0), thickness=-1)\n",
    "    \n",
    "            \n",
    "            if click3 and click4:\n",
    "                       \n",
    "                cv2.line(zoom_frame, pt3,pt4, (255, 0, 0), 1)\n",
    "                cv2.arrowedLine(zoom_frame, pt4, (pt4[0],pt3[1]), (255, 0, 0), 1)\n",
    "                cv2.line(zoom_frame, pt3, (pt4[0],pt3[1]), (0, 0, 255), 2)              \n",
    "                cv2.namedWindow('Zoom')\n",
    "                \n",
    "                zoom_sum=zoom_layers[pt3[1],pt3[0]:pt4[0]].sum()\n",
    "                cv2.putText(zoom_frame,str(zoom_sum),pt3,cv2.FONT_HERSHEY_PLAIN,2,(0,0,255))\n",
    " \n",
    "            cv2.imshow('Zoom',zoom_frame)\n",
    "\n",
    "            if cv2.waitKey(1) & 0xFF == ord('q'):\n",
    "                click1 = False\n",
    "                click2 = False\n",
    "                click3 = False\n",
    "                click4 = False\n",
    "                cv2.destroyWindow('Zoom') \n",
    "                cv2.setMouseCallback('Core', zoomer) \n",
    "                break\n",
    "\n",
    "          \n",
    "            \n",
    "        \n",
    "    # Display the resulting frame\n",
    "\n",
    "    # This command let's us quit with the \"q\" button on a keyboard.\n",
    "    # Simply pressing X on the window won't work!\n",
    "    if cv2.waitKey(1) & 0xFF == ord('q'):\n",
    "        break\n",
    "\n",
    "# When everything is done, release the capture\n",
    "cv2.destroyAllWindows()"
   ]
  },
  {
   "cell_type": "code",
   "execution_count": 23,
   "metadata": {},
   "outputs": [],
   "source": [
    "cv2.destroyAllWindows()"
   ]
  },
  {
   "cell_type": "code",
   "execution_count": null,
   "metadata": {},
   "outputs": [],
   "source": []
  }
 ],
 "metadata": {
  "kernelspec": {
   "display_name": "Python 3",
   "language": "python",
   "name": "python3"
  },
  "language_info": {
   "codemirror_mode": {
    "name": "ipython",
    "version": 3
   },
   "file_extension": ".py",
   "mimetype": "text/x-python",
   "name": "python",
   "nbconvert_exporter": "python",
   "pygments_lexer": "ipython3",
   "version": "3.6.10"
  }
 },
 "nbformat": 4,
 "nbformat_minor": 4
}
